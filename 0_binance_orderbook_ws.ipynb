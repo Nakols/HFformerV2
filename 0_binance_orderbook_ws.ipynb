{
  "cells": [
    {
      "cell_type": "code",
      "execution_count": 1,
      "metadata": {
        "colab": {
          "base_uri": "https://localhost:8080/"
        },
        "id": "uxj4ZPM2CZrM",
        "outputId": "46fa6c59-ef91-4be4-e6ab-a935aecd7f7a"
      },
      "outputs": [
        {
          "output_type": "stream",
          "name": "stdout",
          "text": [
            "\u001b[?25l\r\u001b[K     |██████                          | 10 kB 19.1 MB/s eta 0:00:01\r\u001b[K     |████████████                    | 20 kB 24.8 MB/s eta 0:00:01\r\u001b[K     |██████████████████▏             | 30 kB 30.2 MB/s eta 0:00:01\r\u001b[K     |████████████████████████▏       | 40 kB 34.4 MB/s eta 0:00:01\r\u001b[K     |██████████████████████████████▏ | 51 kB 37.8 MB/s eta 0:00:01\r\u001b[K     |████████████████████████████████| 54 kB 2.8 MB/s \n",
            "\u001b[?25h"
          ]
        }
      ],
      "source": [
        "!pip install --quiet websocket-client"
      ]
    },
    {
      "cell_type": "code",
      "execution_count": 2,
      "metadata": {
        "colab": {
          "base_uri": "https://localhost:8080/"
        },
        "id": "I1F9bKlPDQh8",
        "outputId": "43c4c1ef-0114-428b-fc59-cf1295c7fd6f"
      },
      "outputs": [
        {
          "output_type": "stream",
          "name": "stdout",
          "text": [
            "Drive already mounted at /content/drive; to attempt to forcibly remount, call drive.mount(\"/content/drive\", force_remount=True).\n"
          ]
        }
      ],
      "source": [
        "from google.colab import drive\n",
        "drive.mount('/content/drive')"
      ]
    },
    {
      "cell_type": "code",
      "execution_count": null,
      "metadata": {
        "colab": {
          "base_uri": "https://localhost:8080/"
        },
        "id": "wM5fx5JdCQYt",
        "outputId": "9ddaa37c-2526-4f75-ef0f-1701835998d3"
      },
      "outputs": [
        {
          "metadata": {
            "tags": null
          },
          "name": "stdout",
          "output_type": "stream",
          "text": [
            "opened\n"
          ]
        }
      ],
      "source": [
        "import json\n",
        "import os\n",
        "import websocket\n",
        "from time import time\n",
        "from datetime import datetime\n",
        "\n",
        "def on_message(self, message):\n",
        "    d = json.loads(message)\n",
        "    ws.header.append(0)\n",
        "    dt = str(time())\n",
        "    d['datetime'] = dt\n",
        "    date = datetime.now().strftime('%d-%b-%Y')\n",
        "    filedir = f'/content/drive/MyDrive/IP/Repos/HFTransformer/raw_data/{date}/'\n",
        "    if not os.path.exists(filedir):\n",
        "        os.mkdir(filedir)\n",
        "    filepath = os.path.join(filedir,f'orderbook_ws_{len(ws.header)//100_000}.ndjson')\n",
        "    with open(file=filepath, mode='a+', encoding='utf-8') as f:\n",
        "        json.dump(d, f)\n",
        "        f.write('\\n')\n",
        "\n",
        "\n",
        "def on_open(self):\n",
        "    print(\"opened\")\n",
        "    date = datetime.now().strftime('%d-%b-%Y')\n",
        "    filedir = f'/content/drive/MyDrive/IP/Repos/HFTransformer/raw_data/{date}/'\n",
        "    if not os.path.exists(filedir):\n",
        "        os.mkdir(filedir)\n",
        "    subscribe_message = {\n",
        "        \"method\": \"SUBSCRIBE\",\n",
        "        \"params\":\n",
        "        [\n",
        "          \"btcusdt@aggTrade\",\n",
        "         \"btcusdt@depth10@100ms\"\n",
        "         ],\n",
        "        \"id\": 1\n",
        "        }\n",
        "\n",
        "    ws.send(json.dumps(subscribe_message))\n",
        "\n",
        "            \n",
        "def on_close(self):\n",
        "    print(\"closed connection\")\n",
        "\n",
        "\n",
        "socket='wss://stream.binance.com:9443/ws'\n",
        "\n",
        "ws = websocket.WebSocketApp(socket,\n",
        "                            on_open=on_open,\n",
        "                            on_message=on_message,\n",
        "                            on_close=on_close)\n",
        "\n",
        "ws.run_forever()"
      ]
    }
  ],
  "metadata": {
    "colab": {
      "name": "binance_orderbook_ws.ipynb",
      "provenance": []
    },
    "kernelspec": {
      "display_name": "Python 3",
      "name": "python3"
    },
    "language_info": {
      "name": "python"
    }
  },
  "nbformat": 4,
  "nbformat_minor": 0
}