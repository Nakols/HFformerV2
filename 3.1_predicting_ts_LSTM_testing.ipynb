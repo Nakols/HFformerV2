{
  "cells": [
    {
      "cell_type": "code",
      "execution_count": null,
      "metadata": {
        "cellView": "form",
        "id": "z68p_q4eISQP"
      },
      "outputs": [],
      "source": [
        "import os\n",
        "import glob\n",
        "\n",
        "from tqdm import trange\n",
        "import random\n",
        "import math\n",
        "\n",
        "from dateutil import parser\n",
        "from datetime import datetime\n",
        "import time\n",
        "\n",
        "import numpy as np\n",
        "import pandas as pd\n",
        "import pickle\n",
        "\n",
        "import torch\n",
        "import torch.nn as nn\n",
        "import torch.nn.functional as F\n",
        "import torch.optim as optim\n",
        "from torch.utils.data import Dataset, DataLoader\n",
        "from sklearn.metrics import r2_score\n",
        "\n",
        "import matplotlib.pyplot as plt\n",
        "from matplotlib.pyplot import figure"
      ]
    },
    {
      "cell_type": "code",
      "execution_count": null,
      "metadata": {
        "id": "FUcYIRwMIVPV"
      },
      "outputs": [],
      "source": [
        "config = {\n",
        "  \"plots\": {\n",
        "        \"show_plots\": False,\n",
        "        \"xticks_interval\": 1200,\n",
        "        \"color_actual\": \"#001f3f\",\n",
        "        \"color_train\": \"#3D9970\",\n",
        "        \"color_val\": \"#0074D9\",\n",
        "        \"color_test\": \"#FF4136\",\n",
        "        \"color_pred_train\": \"#3D9970\",\n",
        "        \"color_pred_val\": \"#0074D9\",\n",
        "        \"color_pred_test\": \"#FF4136\",\n",
        "    },\n",
        "    \"data\": {\n",
        "        \"window_size\": 100,\n",
        "        \"train_split_size\": 0.80,\n",
        "    }, \n",
        "    \"model_MO\": {\n",
        "        \"input_size\": 1, # since we are only using 1 feature, price\n",
        "        \"num_lstm_layers\": 5,\n",
        "        \"lstm_size\": 16,\n",
        "        \"dropout\": 0.25,\n",
        "        \"output_size\": 1,\n",
        "    },\n",
        "    \"training_MO\": {\n",
        "        \"batch_size\": 64,\n",
        "        \"num_epoch\": 50,\n",
        "        \"learning_rate\": 0.005,\n",
        "        \"scheduler_step_size\": 10,\n",
        "    },\n",
        "    \"model_MM\": {\n",
        "        \"input_size\": 1, # since we are only using 1 feature, price\n",
        "        \"num_lstm_layers\": 5,\n",
        "        \"lstm_size\": 16,\n",
        "        \"dropout\": 0.4,\n",
        "        \"target_len\": 60,\n",
        "        \"stride\": 1,\n",
        "        \"patience\": 5, # number of epochs to wait for Early Stopping\n",
        "    },\n",
        "    \"training_MM\": {\n",
        "        \"batch_size\": 256,\n",
        "        \"num_epoch\": 15,\n",
        "        \"learning_rate\": 0.004,\n",
        "        \"scheduler_step_size\": 10,\n",
        "    },\n",
        "    \"paths\": {\n",
        "        \"drive\": {\n",
        "            \"agg_trade\": {\n",
        "                \"train\": \"/content/drive/MyDrive/IP/Repos/HFTransformer/input_data/\",\n",
        "                \"test\": \"/content/drive/MyDrive/IP/Repos/HFTransformer/input_data/\", \n",
        "            },\n",
        "            \"orderbook\": {\n",
        "                \"train\": \"/content/drive/MyDrive/IP/Repos/LSTM_Transformer/input_data/orderbook_clean.csv\",\n",
        "                \"test\": \"/content/drive/MyDrive/IP/Repos/LSTM_Transformer/input_data/orderbook_test_clean.csv\",\n",
        "            },\n",
        "            \"models\": \"/content/drive/MyDrive/IP/Repos/LSTM_Transformer/models/\",\n",
        "            \"figures\": \"/content/drive/MyDrive/IP/Repos/LSTM_Transformer/figures/\",\n",
        "        },\n",
        "        \"local\": {\n",
        "            \"agg_trade\": {\n",
        "                \"train\": \"./input_data/aggTrade_clean.csv\",\n",
        "                \"test\": \"./input_data/aggTrade_test_clean.csv\", \n",
        "            },\n",
        "            \"orderbook\": {\n",
        "                \"train\": \"./input_data/orderbook_clean.csv\",\n",
        "                \"test\": \"./input_data/orderbook_test_clean.csv\",\n",
        "            },\n",
        "            \"models\": \"./models/\",\n",
        "            \"figures\": \"./figures\",\n",
        "        }\n",
        "    }\n",
        "}"
      ]
    },
    {
      "cell_type": "markdown",
      "metadata": {
        "id": "olYwt1apSFb6"
      },
      "source": [
        "## Data preparation"
      ]
    },
    {
      "cell_type": "code",
      "execution_count": null,
      "metadata": {
        "id": "gNUPSKJMEJLw"
      },
      "outputs": [],
      "source": [
        "device = \"cuda\" if torch.cuda.is_available() else \"cpu\"\n",
        "drive = True"
      ]
    },
    {
      "cell_type": "code",
      "execution_count": null,
      "metadata": {
        "colab": {
          "base_uri": "https://localhost:8080/"
        },
        "id": "JSphepU9DzNq",
        "outputId": "d448d4b8-fa8e-4c43-d5dd-91c4a559947e"
      },
      "outputs": [
        {
          "name": "stdout",
          "output_type": "stream",
          "text": [
            "Mounted at /content/drive\n"
          ]
        }
      ],
      "source": [
        "from google.colab import drive\n",
        "drive.mount('/content/drive')"
      ]
    },
    {
      "cell_type": "code",
      "execution_count": null,
      "metadata": {
        "id": "j7bWYyArIVRq"
      },
      "outputs": [],
      "source": [
        "date_train = 'all' \n",
        "date_test = 'all'\n",
        "\n",
        "if drive:\n",
        "    agg_trade = pd.read_csv(config[\"paths\"][\"drive\"][\"agg_trade\"][\"train\"]+date_train+'/orderbook.csv')    \n",
        "else:\n",
        "    agg_trade = pd.read_csv(config[\"paths\"][\"local\"][\"agg_trade\"][\"train\"]+date_train+'/orderbook_agg_trade_dollarvol.csv')\n",
        "    agg_trade_test = pd.read_csv(config[\"paths\"][\"local\"][\"agg_trade\"][\"test\"]+date_test+'/orderbook_agg_trade_dollarvol.csv')\n",
        "\n",
        "agg_trade['price'] = agg_trade['w_midprice']"
      ]
    },
    {
      "cell_type": "markdown",
      "metadata": {
        "id": "1mstDxZxSFb9"
      },
      "source": [
        "## Preparing Data for LSTM MO"
      ]
    },
    {
      "cell_type": "code",
      "execution_count": null,
      "metadata": {
        "id": "5cinhNa4JRHu"
      },
      "outputs": [],
      "source": [
        "# The following helper functions and models were based on existing code: https://github.com/lkulowski/LSTM_encoder_decoder\n",
        "\n",
        "def prepare_data_x(data, window_size, lag):\n",
        "    '''\n",
        "    Windows the input data for the ML models.\n",
        "    '''\n",
        "    n_row = data.shape[0] - window_size + 1\n",
        "    subset = data[:window_size]\n",
        "    subset_mean = np.mean(subset, axis=0)\n",
        "    output = np.zeros([n_row, window_size, len(subset_mean)])\n",
        "    x_mean = np.zeros([n_row, len(subset_mean)])\n",
        "    x_std = np.zeros([n_row, len(subset_mean)])\n",
        "    for idx in range(n_row):\n",
        "        subset = data[idx:idx+window_size]\n",
        "        subset_mean = np.mean(subset, axis=0)\n",
        "        subset_std = np.std(subset, axis=0) + 0.01\n",
        "        subset_norm = (subset-subset_mean)/subset_std\n",
        "        x_mean[idx,:] = subset_mean\n",
        "        x_std[idx,:] = subset_std\n",
        "        output[idx,:,:] = subset_norm\n",
        "    x_mean = np.array(x_mean)\n",
        "    x_std = np.array(x_std)\n",
        "    return output[:-lag-1], output[-1], x_mean, x_std\n",
        "\n",
        "def prepare_data_y(x, window_size, lag):\n",
        "    '''\n",
        "    Windows the target data for the ML models.\n",
        "    '''\n",
        "    output = np.zeros([len(x)-window_size-lag])\n",
        "    std = 1.1*np.sqrt(lag)+lag*0.01\n",
        "    for idx in range(0,len(x)-window_size-lag):\n",
        "        output[idx] = np.log(x[window_size+lag-1+idx,0]/x[window_size-1+idx,0])*10_000\n",
        "    output = output/std\n",
        "    return output\n",
        "\n",
        "def prepare_data(normalized_prices_train, dates_train, normalized_prices_test, dates_test, config, lag=1, plot=False):\n",
        "    '''\n",
        "    Returns input and target data.\n",
        "    '''\n",
        "    data_x, data_x_unseen, x_mean, x_std = prepare_data_x(normalized_prices_train, window_size=config[\"data\"][\"window_size\"], lag=lag)\n",
        "    data_y = prepare_data_y(normalized_prices_train, window_size=config[\"data\"][\"window_size\"], lag=lag)\n",
        "    \n",
        "    split_index = int(data_y.shape[0]*config[\"data\"][\"train_split_size\"])\n",
        "    data_x_train = data_x[:split_index]\n",
        "    data_x_val = data_x[split_index:]\n",
        "    data_y_train = data_y[:split_index]\n",
        "    data_y_val = data_y[split_index:]\n",
        "\n",
        "    return split_index, data_x_train, data_y_train, data_x_val, data_y_val"
      ]
    },
    {
      "cell_type": "markdown",
      "metadata": {
        "id": "7OaAEH26Dd48"
      },
      "source": [
        "## Preparing Data for LSTM MM"
      ]
    },
    {
      "cell_type": "code",
      "execution_count": null,
      "metadata": {
        "id": "0f1c9FqDDd48"
      },
      "outputs": [],
      "source": [
        "def train_test_split(datetime, price, split = 0.8):\n",
        "  '''\n",
        "  Splits time series into train/test sets.\n",
        "  '''  \n",
        "  datetime = np.array(datetime)\n",
        "  price = np.array(price)\n",
        "  \n",
        "  indx_split = int(split * len(price))\n",
        "  indx_train = np.arange(0, indx_split, dtype=int)\n",
        "  indx_val = np.arange(indx_split, len(price), dtype=int)\n",
        "    \n",
        "  t_train = datetime[indx_train]\n",
        "  y_train = price[indx_train]\n",
        "  y_train = y_train.reshape(-1, 1)\n",
        "  \n",
        "  t_val = datetime[indx_val]\n",
        "  y_val = price[indx_val]\n",
        "  y_val = y_val.reshape(-1, 1)\n",
        "  \n",
        "  return t_train, y_train, t_val, y_val \n",
        "\n",
        "\n",
        "def windowed_dataset(y, input_window = 5, output_window = 1, stride = 1, num_features = 1):\n",
        "    '''\n",
        "    Creates a windowed dataset.\n",
        "    '''\n",
        "    L = y.shape[0]\n",
        "    num_samples = (L - input_window - output_window) // stride + 1\n",
        "\n",
        "    X = np.zeros([input_window, num_samples, num_features])\n",
        "    Y = np.zeros([output_window, num_samples, num_features])    \n",
        "    \n",
        "    for ff in np.arange(num_features):\n",
        "        for ii in np.arange(num_samples):\n",
        "            start_x = stride * ii\n",
        "            end_x = start_x + input_window\n",
        "            X[:, ii, ff] = y[start_x:end_x, ff]\n",
        "\n",
        "            start_y = stride * ii + input_window\n",
        "            end_y = start_y + output_window \n",
        "            Y[:, ii, ff] = y[start_y:end_y, ff]\n",
        "\n",
        "    return X, Y\n",
        "\n",
        "\n",
        "def numpy_to_torch(x_train, y_train, x_validation, y_validation, device):\n",
        "    '''\n",
        "    Converts numpy array to PyTorch tensor.\n",
        "    '''\n",
        "    x_train_torch = torch.from_numpy(x_train).type(torch.Tensor).to(device)\n",
        "    y_train_torch = torch.from_numpy(y_train).type(torch.Tensor).to(device)\n",
        "\n",
        "    x_test_torch = torch.from_numpy(x_validation).type(torch.Tensor).to(device)\n",
        "    y_test_torch = torch.from_numpy(y_validation).type(torch.Tensor).to(device)\n",
        "    \n",
        "    return x_train_torch, y_train_torch, x_test_torch, y_test_torch"
      ]
    },
    {
      "cell_type": "markdown",
      "metadata": {
        "id": "nW8JIIAzSFcA"
      },
      "source": [
        "## Defining the Many-to-One LSTM model"
      ]
    },
    {
      "cell_type": "code",
      "execution_count": null,
      "metadata": {
        "id": "1pRFMUlyNZvs"
      },
      "outputs": [],
      "source": [
        "class TimeSeriesDataset(Dataset):\n",
        "    '''\n",
        "    Class for converting LOB data into model inputs.\n",
        "    '''\n",
        "    def __init__(self, x, y):\n",
        "        self.x = x.astype(np.float32)\n",
        "        self.y = y.astype(np.float32)\n",
        "        \n",
        "    def __len__(self):\n",
        "        return len(self.x)\n",
        "\n",
        "    def __getitem__(self, idx):\n",
        "        return (self.x[idx], self.y[idx])"
      ]
    },
    {
      "cell_type": "code",
      "execution_count": null,
      "metadata": {
        "id": "6ynCp-tnJROi"
      },
      "outputs": [],
      "source": [
        "class LSTM_MO(nn.Module):\n",
        "    def __init__(self, input_size=1, hidden_layer_size=32, num_layers=2, output_size=1, dropout=0.2):\n",
        "        super().__init__()\n",
        "        self.hidden_layer_size = hidden_layer_size\n",
        "\n",
        "        self.linear_1 = nn.Linear(input_size, hidden_layer_size)\n",
        "        self.prelu = nn.PReLU()\n",
        "        self.lstm = nn.LSTM(hidden_layer_size, hidden_size=self.hidden_layer_size, num_layers=num_layers, batch_first=True)\n",
        "        self.dropout = nn.Dropout(dropout)\n",
        "        self.linear_2 = nn.Linear(num_layers*hidden_layer_size, output_size)\n",
        "        \n",
        "        self.init_weights()\n",
        "\n",
        "\n",
        "    def init_weights(self):\n",
        "        for name, param in self.lstm.named_parameters():\n",
        "            if 'bias' in name:\n",
        "                 nn.init.constant_(param, 0.0)\n",
        "            elif 'weight_ih' in name:\n",
        "                 nn.init.kaiming_normal_(param)\n",
        "            elif 'weight_hh' in name:\n",
        "                 nn.init.orthogonal_(param)\n",
        "\n",
        "\n",
        "    def forward(self, x):\n",
        "        batchsize = x.shape[0]\n",
        "        x = self.linear_1(x)\n",
        "        x = self.prelu(x)\n",
        "        lstm_out, (h_n, c_n) = self.lstm(x)\n",
        "        x = h_n.permute(1, 0, 2).reshape(batchsize, -1) \n",
        "        x = self.dropout(x)\n",
        "        predictions = self.linear_2(x)\n",
        "        return predictions[:,-1]\n",
        "\n",
        "\n",
        "    def train_model(self, train_dataloader, val_dataloader, learning_rate, scheduler_step_size, n_epochs=50,\n",
        "                    device=\"cpu\", save_path=None, forecast_window=None):\n",
        "      \n",
        "        def run_epoch(dataloader, is_training=False):\n",
        "            epoch_loss = 0\n",
        "            outputs = torch.Tensor(0).to(device)\n",
        "            targets = torch.Tensor(0).to(device)\n",
        "            if is_training:\n",
        "                self.train()\n",
        "            else:\n",
        "                self.eval()\n",
        "            for idx, (x, y) in enumerate(dataloader):\n",
        "                if is_training:\n",
        "                    optimizer.zero_grad()\n",
        "\n",
        "                batchsize = x.shape[0]\n",
        "                x = x.to(device)\n",
        "                y = y.to(device)\n",
        "                out = self.forward(x)\n",
        "                loss = criterion(out.contiguous(), y.contiguous())\n",
        "\n",
        "                if is_training:\n",
        "                    loss.backward()\n",
        "                    optimizer.step()\n",
        "                \n",
        "                if not is_training:\n",
        "                    outputs = torch.cat((outputs.contiguous(), out))\n",
        "                    targets = torch.cat((targets, y.contiguous()))\n",
        "                    \n",
        "                epoch_loss += (loss.detach().item() / batchsize)\n",
        "                \n",
        "            lr = scheduler.get_last_lr()[0]\n",
        "            if not is_training:\n",
        "                plt.plot(targets.cpu().detach().numpy(), alpha=0.3)\n",
        "                plt.plot(outputs.cpu().detach().numpy())\n",
        "                plt.show()\n",
        "                r2 = r2_score(targets.cpu().detach().numpy(), outputs.cpu().detach().numpy())\n",
        "                return epoch_loss, lr, r2\n",
        "            else:\n",
        "                return epoch_loss, lr\n",
        "\n",
        "        # define optimizer, scheduler and loss function\n",
        "        criterion = nn.MSELoss(reduction='sum')\n",
        "        optimizer = optim.AdamW(model_MO.parameters(), lr=learning_rate, betas=(0.9, 0.98), eps=1e-9)\n",
        "        scheduler = optim.lr_scheduler.StepLR(optimizer, step_size=scheduler_step_size, gamma=0.995)\n",
        "\n",
        "        # begin training\n",
        "        for epoch in range(n_epochs):\n",
        "            loss_train, lr_train = run_epoch(train_dataloader, is_training=True)\n",
        "            loss_val, lr_val, r2 = run_epoch(val_dataloader)\n",
        "            scheduler.step()\n",
        "\n",
        "            if save_path:\n",
        "                results = {\n",
        "                        'model': 'LSTM_MO',\n",
        "                        'pred_len': forecast_window,\n",
        "                        'epoch': epoch,\n",
        "                        'train_loss': loss_train,\n",
        "                        'val_loss': loss_val,\n",
        "                        'r2_val_sklearn': r2            \n",
        "                }\n",
        "\n",
        "                df = pd.DataFrame([results])\n",
        "                df.to_csv(save_path, mode='a', header=not os.path.exists(save_path), index=False)\n",
        "\n",
        "            \n",
        "            print('Epoch[{}/{}] | loss train:{:.6f}, val loss:{:.6f} | lr:{:.6f} | r2: {:.5f}|'\n",
        "                      .format(epoch+1, n_epochs, loss_train, loss_val, lr_train, r2))\n",
        "\n",
        "\n",
        "def forecast(data_loader, model, criterion, forecast_horizon, device):\n",
        "    model.eval()\n",
        "    output_decoder = torch.Tensor(0).to(device)\n",
        "    labels = torch.Tensor(0).to(device)\n",
        "    labels_all = torch.Tensor(0).to(device)\n",
        "    total_loss = 0\n",
        "    with torch.no_grad():\n",
        "        for src, targ in data_loader:\n",
        "            src = src if isinstance(src, list) else src.to(device)\n",
        "            targ = targ if isinstance(targ, list) else targ.to(device)\n",
        "            output = model(src.float())\n",
        "            output_decoder = torch.cat((output_decoder, output))\n",
        "            loss = criterion(targ, output)\n",
        "            total_loss += loss.item()\n",
        "            labels_all = torch.cat((labels_all, targ))\n",
        "    return total_loss, output_decoder.squeeze(), labels_all\n"
      ]
    },
    {
      "cell_type": "code",
      "execution_count": null,
      "metadata": {
        "id": "DKdPyjE4STaz"
      },
      "outputs": [],
      "source": [
        "def strategy_evaluator(true, pred):\n",
        "    total_buys, total_sells, total_holds = np.sum(true>0), np.sum(true<0), np.sum(true==0)\n",
        "    total_correct_buys, total_correct_sells, total_correct_holds = 0, 0, 0\n",
        "    for idx in range(len(true)):\n",
        "        if true[idx] > 0 and pred[idx] > 0:\n",
        "            total_correct_buys += 1\n",
        "        elif true[idx] < 0 and pred[idx] < 0:\n",
        "            total_correct_sells += 1\n",
        "        elif true[idx] == 0 and pred[idx] == 0:\n",
        "            total_correct_holds += 1\n",
        "    total_correct_buys_r, total_correct_sells_r, total_correct_holds_r = (total_correct_buys/total_buys),(total_correct_sells/total_sells),(total_correct_holds/total_holds)\n",
        "    total_correct_trades = (total_correct_buys+total_correct_sells+total_correct_holds)/(total_buys+total_sells+total_holds)\n",
        "    return total_buys, total_correct_buys, total_sells, total_correct_sells, total_holds, total_correct_holds\n",
        "\n",
        "def forecast_evaluator(test_loader, model, criterion, forecast_horizon=1, device=device, save_path=None):\n",
        "    test_data_loader = DataLoader(test_loader, batch_size=1, shuffle=False, sampler=None, batch_sampler=None, num_workers=6)\n",
        "    loss, pred, true = forecast(test_data_loader, model, criterion, forecast_horizon=1, device=device)\n",
        "    pred, true = pred.cpu().numpy(), true.cpu().numpy()\n",
        "\n",
        "    r2 = r2_score(true, pred)\n",
        "    strategy_results = strategy_evaluator(true, pred)\n",
        "\n",
        "    if save_path:\n",
        "        results = {\n",
        "                'model': 'LSTM_MO',\n",
        "                'pred_len': forecast_horizon,\n",
        "                'test_loss': loss,\n",
        "                'r2_val_sklearn': r2,\n",
        "                'correct_buys': strategy_results[1],\n",
        "                'total_buys':  strategy_results[0],\n",
        "                'correct_sells': strategy_results[3],\n",
        "                'total_sells': strategy_results[2],\n",
        "                'correct_holds': strategy_results[5],\n",
        "                'total_holds': strategy_results[4],\n",
        "        }\n",
        "\n",
        "        df = pd.DataFrame([results])\n",
        "        df.to_csv(save_path, mode='a', header=not os.path.exists(save_path), index=False)\n",
        "\n",
        "    print(f'| test loss {loss} | b, cb, s, cs, h, ch: {strategy_results} |')\n",
        "\n",
        "    return pred, true"
      ]
    },
    {
      "cell_type": "markdown",
      "metadata": {
        "id": "gkYm8LWuDd4-"
      },
      "source": [
        "## Defining the Many-to-Many LSTM Model"
      ]
    },
    {
      "cell_type": "code",
      "execution_count": null,
      "metadata": {
        "id": "OzauwQ5VDd4_"
      },
      "outputs": [],
      "source": [
        "class lstm_encoder(nn.Module):\n",
        "    ''' Encodes time-series sequence '''\n",
        "\n",
        "    def __init__(self, input_size, hidden_size, dropout = 0.1, num_layers = 1):\n",
        "        super(lstm_encoder, self).__init__()\n",
        "        self.input_size = input_size\n",
        "        self.hidden_size = hidden_size\n",
        "        self.num_layers = num_layers\n",
        "\n",
        "        # define LSTM layer\n",
        "        self.lstm = nn.LSTM(input_size = input_size, hidden_size = hidden_size,\n",
        "                            num_layers = num_layers, dropout = dropout)\n",
        "\n",
        "    def forward(self, x_input):\n",
        "        lstm_out, self.hidden = self.lstm(x_input.view(x_input.shape[0], x_input.shape[1], self.input_size))\n",
        "        return lstm_out, self.hidden     \n",
        "    \n",
        "    def init_hidden(self, batch_size):\n",
        "        return (torch.zeros(self.num_layers, batch_size, self.hidden_size),\n",
        "                torch.zeros(self.num_layers, batch_size, self.hidden_size))\n",
        "\n",
        "\n",
        "class lstm_decoder(nn.Module):\n",
        "    ''' Decodes hidden state output by encoder '''\n",
        "    \n",
        "    def __init__(self, input_size, hidden_size, dropout = 0.1, num_layers = 1):\n",
        "        super(lstm_decoder, self).__init__()\n",
        "        self.input_size = input_size\n",
        "        self.hidden_size = hidden_size\n",
        "        self.num_layers = num_layers\n",
        "\n",
        "        self.lstm = nn.LSTM(input_size = input_size, hidden_size = hidden_size,\n",
        "                            num_layers = num_layers, dropout = dropout)\n",
        "        self.PReLU = nn.PReLU()\n",
        "        self.batchnorm = nn.BatchNorm1d(hidden_size)\n",
        "        self.linear = nn.Linear(hidden_size, input_size)           \n",
        "\n",
        "    def forward(self, x_input, encoder_hidden_states):\n",
        "        lstm_out, self.hidden = self.lstm(x_input.unsqueeze(0), encoder_hidden_states)\n",
        "        output = self.PReLU(lstm_out.squeeze(0))\n",
        "        #output = self.batchnorm(output)\n",
        "        output = self.linear(output)     \n",
        "        \n",
        "        return output, self.hidden\n",
        "\n",
        "class LSTM_MM(nn.Module):\n",
        "    ''' train LSTM encoder-decoder and make predictions '''\n",
        "    def __init__(self, input_size, hidden_size, num_layers, dropout):\n",
        "        super(LSTM_MM, self).__init__()\n",
        "\n",
        "        self.input_size = input_size\n",
        "        self.hidden_size = hidden_size\n",
        "\n",
        "        self.encoder = lstm_encoder(input_size = input_size, hidden_size = hidden_size, num_layers=num_layers, dropout=dropout)\n",
        "        self.decoder = lstm_decoder(input_size = input_size, hidden_size = hidden_size, num_layers=num_layers, dropout=dropout)\n",
        "\n",
        "\n",
        "    def train_model(self, input_tensor_train, target_tensor_train, input_tensor_val, target_tensor_val, n_epochs, target_len,\n",
        "                    batch_size,device, training_prediction = 'recursive', teacher_forcing_ratio = 0.5, learning_rate = 0.01, dynamic_tf = False):\n",
        "        '''\n",
        "        train lstm encoder-decoder\n",
        "        '''\n",
        "        losses_train = np.full(n_epochs, np.nan)\n",
        "        losses_val = np.full(n_epochs, np.nan)\n",
        "\n",
        "        optimizer = optim.Adam(self.parameters(), lr = learning_rate)\n",
        "        criterion = nn.MSELoss()\n",
        "        n_batches_train = int(input_tensor_train.shape[1] / batch_size)\n",
        "        n_batches_val = int(input_tensor_val.shape[1] / batch_size)\n",
        "\n",
        "        with trange(n_epochs) as tr:\n",
        "            for it in tr:\n",
        "                self.train()\n",
        "                batch_loss = 0.\n",
        "\n",
        "                for b in range(n_batches_train):\n",
        "                    input_batch = input_tensor_train[:, b: b + batch_size, :]\n",
        "                    target_batch = target_tensor_train[:, b: b + batch_size, :]\n",
        "                    outputs = torch.zeros(target_len, batch_size, input_batch.shape[2])\n",
        "                    encoder_hidden = self.encoder.init_hidden(batch_size)\n",
        "                    optimizer.zero_grad()\n",
        "                    encoder_output, encoder_hidden = self.encoder(input_batch)\n",
        "                    decoder_input = input_batch[-1, :, :] \n",
        "                    decoder_hidden = encoder_hidden\n",
        "\n",
        "                    if training_prediction == 'recursive':\n",
        "                        for t in range(target_len): \n",
        "                            decoder_output, decoder_hidden = self.decoder(decoder_input, decoder_hidden)\n",
        "                            outputs[t] = decoder_output\n",
        "                            decoder_input = decoder_output\n",
        "\n",
        "                    if training_prediction == 'teacher_forcing':\n",
        "                        if random.random() < teacher_forcing_ratio:\n",
        "                            for t in range(target_len): \n",
        "                                decoder_output, decoder_hidden = self.decoder(decoder_input, decoder_hidden)\n",
        "                                outputs[t] = decoder_output\n",
        "                                decoder_input = target_batch[t, :, :]\n",
        "\n",
        "                        else:\n",
        "                            for t in range(target_len): \n",
        "                                decoder_output, decoder_hidden = self.decoder(decoder_input, decoder_hidden)\n",
        "                                outputs[t] = decoder_output\n",
        "                                decoder_input = decoder_output\n",
        "\n",
        "                    if training_prediction == 'mixed_teacher_forcing':\n",
        "                        for t in range(target_len):\n",
        "                            decoder_output, decoder_hidden = self.decoder(decoder_input, decoder_hidden)\n",
        "                            outputs[t] = decoder_output\n",
        "                            if random.random() < teacher_forcing_ratio:\n",
        "                                decoder_input = target_batch[t, :, :]\n",
        "                            # predict recursively \n",
        "                            else:\n",
        "                                decoder_input = decoder_output\n",
        "\n",
        "                    # compute the loss \n",
        "                    loss = criterion(outputs.to(device), target_batch.to(device))\n",
        "                    batch_loss += loss.item()\n",
        "                    \n",
        "                    # backpropagation\n",
        "                    loss.backward()\n",
        "                    optimizer.step()\n",
        "\n",
        "                # loss for epoch \n",
        "                batch_loss /= n_batches_train\n",
        "                batch_loss = math.sqrt(batch_loss) \n",
        "                losses_train[it] = batch_loss\n",
        "\n",
        "                #validation\n",
        "                self.eval()                \n",
        "                batch_loss_val = 0.\n",
        "\n",
        "                for b in range(n_batches_val):\n",
        "                    input_batch = input_tensor_val[:, b: b + batch_size, :]\n",
        "                    target_batch = target_tensor_val[:, b: b + batch_size, :]\n",
        "                    outputs = torch.zeros(target_len, batch_size, input_batch.shape[2])\n",
        "                    encoder_hidden = self.encoder.init_hidden(batch_size)\n",
        "                    encoder_output, encoder_hidden = self.encoder(input_batch)\n",
        "                    decoder_input = input_batch[-1, :, :] \n",
        "                    decoder_hidden = encoder_hidden\n",
        "\n",
        "                    if training_prediction == 'recursive':\n",
        "                        for t in range(target_len): \n",
        "                            decoder_output, decoder_hidden = self.decoder(decoder_input, decoder_hidden)\n",
        "                            outputs[t] = decoder_output\n",
        "                            decoder_input = decoder_output\n",
        "\n",
        "                    if training_prediction == 'teacher_forcing':\n",
        "                        if random.random() < teacher_forcing_ratio:\n",
        "                            for t in range(target_len): \n",
        "                                decoder_output, decoder_hidden = self.decoder(decoder_input, decoder_hidden)\n",
        "                                outputs[t] = decoder_output\n",
        "                                decoder_input = target_batch[t, :, :]\n",
        "\n",
        "                        else:\n",
        "                            for t in range(target_len): \n",
        "                                decoder_output, decoder_hidden = self.decoder(decoder_input, decoder_hidden)\n",
        "                                outputs[t] = decoder_output\n",
        "                                decoder_input = decoder_output\n",
        "\n",
        "                    if training_prediction == 'mixed_teacher_forcing':\n",
        "                        for t in range(target_len):\n",
        "                            decoder_output, decoder_hidden = self.decoder(decoder_input, decoder_hidden)\n",
        "                            outputs[t] = decoder_output\n",
        "                            \n",
        "                            if random.random() < teacher_forcing_ratio:\n",
        "                                decoder_input = target_batch[t, :, :]\n",
        "                            \n",
        "                            # predict recursively \n",
        "                            else:\n",
        "                                decoder_input = decoder_output\n",
        "\n",
        "                    # compute the loss \n",
        "                    loss = criterion(outputs.to(device), target_batch.to(device))\n",
        "                    batch_loss_val += loss.item()\n",
        "                    batch_loss_val /= n_batches_val\n",
        "                    batch_loss_val = math.sqrt(batch_loss_val) \n",
        "                    losses_val[it] = batch_loss_val\n",
        "\n",
        "                # dynamic teacher forcing\n",
        "                if dynamic_tf and teacher_forcing_ratio > 0:\n",
        "                    teacher_forcing_ratio = teacher_forcing_ratio - 0.02\n",
        "                    \n",
        "        return losses_train, losses_val\n",
        "\n",
        "    def predict(self, input_tensor, target_len):\n",
        "        self.eval()\n",
        "        input_tensor = input_tensor.unsqueeze(1)    \n",
        "        encoder_output, encoder_hidden = self.encoder(input_tensor)\n",
        "        outputs = torch.zeros(target_len, input_tensor.shape[2])\n",
        "        decoder_input = input_tensor[-1, :, :]\n",
        "        decoder_hidden = encoder_hidden\n",
        "        \n",
        "        for t in range(target_len):\n",
        "            decoder_output, decoder_hidden = self.decoder(decoder_input, decoder_hidden)\n",
        "            outputs[t] = decoder_output.squeeze(0)\n",
        "            decoder_input = decoder_output\n",
        "            \n",
        "        np_outputs = outputs.detach().numpy()\n",
        "        \n",
        "        return np_outputs"
      ]
    },
    {
      "cell_type": "markdown",
      "metadata": {
        "id": "66Rtd-wjSFcB"
      },
      "source": [
        "## Model forecasting - Many to One"
      ]
    },
    {
      "cell_type": "code",
      "execution_count": null,
      "metadata": {
        "id": "KK88WJ6CLeUS"
      },
      "outputs": [],
      "source": [
        "def augment_trade_data(df, lag=0, forecast_window=None):\n",
        "    if forecast_window:\n",
        "        df['lag_return'] = np.log(df['price'].shift(forecast_window)/df['price'].shift(forecast_window+1))\n",
        "        return df.iloc[forecast_window+1:,:]\n",
        "    if lag == 0:\n",
        "        return df\n",
        "    else:\n",
        "        col_name = 'log_lag'+str(lag)+'_price'\n",
        "        df[col_name] = np.log(df.price) - np.log(df.price).shift(lag)\n",
        "        return df.iloc[lag:,:]"
      ]
    },
    {
      "cell_type": "code",
      "execution_count": null,
      "metadata": {
        "colab": {
          "background_save": true,
          "base_uri": "https://localhost:8080/"
        },
        "id": "pv-3a2LZJhN9",
        "outputId": "1871bed7-5753-4523-883b-717fc1b28387"
      },
      "outputs": [
        {
          "name": "stdout",
          "output_type": "stream",
          "text": [
            "Test data shape (199919, 100, 42) (199919,)\n"
          ]
        },
        {
          "name": "stderr",
          "output_type": "stream",
          "text": [
            "/usr/local/lib/python3.7/dist-packages/ipykernel_launcher.py:11: RuntimeWarning: invalid value encountered in long_scalars\n",
            "  # This is added back by InteractiveShellApp.init_path()\n"
          ]
        },
        {
          "name": "stdout",
          "output_type": "stream",
          "text": [
            "| test loss 41645.94883541991 | b, cb, s, cs, h, ch: (100396, 48072, 99523, 64471, 0, 0) |\n",
            "Test data shape (199918, 100, 42) (199918,)\n",
            "| test loss 45791.287815940486 | b, cb, s, cs, h, ch: (98582, 56834, 100258, 66348, 1078, 0) |\n",
            "Test data shape (199917, 100, 42) (199917,)\n",
            "| test loss 45241.79865247598 | b, cb, s, cs, h, ch: (98244, 57023, 101608, 72647, 65, 0) |\n",
            "Test data shape (199916, 100, 42) (199916,)\n",
            "| test loss 47834.7423279979 | b, cb, s, cs, h, ch: (97681, 56120, 102187, 75163, 48, 0) |\n",
            "Test data shape (199916, 100, 42) (199916,)\n",
            "| test loss 49410.619707319034 | b, cb, s, cs, h, ch: (97505, 57167, 102401, 75990, 10, 0) |\n",
            "Test data shape (199915, 100, 42) (199915,)\n",
            "| test loss 48203.61054600012 | b, cb, s, cs, h, ch: (97422, 57078, 102490, 77050, 3, 0) |\n",
            "Test data shape (199914, 100, 42) (199914,)\n",
            "| test loss 48168.92484130166 | b, cb, s, cs, h, ch: (97434, 60055, 102478, 76749, 2, 0) |\n",
            "Test data shape (199913, 100, 42) (199913,)\n",
            "| test loss 49857.6248693583 | b, cb, s, cs, h, ch: (97559, 58726, 102353, 74568, 1, 0) |\n",
            "Test data shape (199912, 100, 42) (199912,)\n"
          ]
        },
        {
          "name": "stderr",
          "output_type": "stream",
          "text": [
            "/usr/local/lib/python3.7/dist-packages/ipykernel_launcher.py:11: RuntimeWarning: invalid value encountered in long_scalars\n",
            "  # This is added back by InteractiveShellApp.init_path()\n"
          ]
        },
        {
          "name": "stdout",
          "output_type": "stream",
          "text": [
            "| test loss 51448.002813602616 | b, cb, s, cs, h, ch: (97606, 57211, 102306, 74760, 0, 0) |\n",
            "Test data shape (199912, 100, 42) (199912,)\n"
          ]
        },
        {
          "name": "stderr",
          "output_type": "stream",
          "text": [
            "/usr/local/lib/python3.7/dist-packages/ipykernel_launcher.py:11: RuntimeWarning: invalid value encountered in long_scalars\n",
            "  # This is added back by InteractiveShellApp.init_path()\n"
          ]
        },
        {
          "name": "stdout",
          "output_type": "stream",
          "text": [
            "| test loss 49900.767150414555 | b, cb, s, cs, h, ch: (97629, 58049, 102283, 75105, 0, 0) |\n",
            "Test data shape (199911, 100, 42) (199911,)\n"
          ]
        },
        {
          "name": "stderr",
          "output_type": "stream",
          "text": [
            "/usr/local/lib/python3.7/dist-packages/ipykernel_launcher.py:11: RuntimeWarning: invalid value encountered in long_scalars\n",
            "  # This is added back by InteractiveShellApp.init_path()\n"
          ]
        },
        {
          "name": "stdout",
          "output_type": "stream",
          "text": [
            "| test loss 50742.83850972743 | b, cb, s, cs, h, ch: (97574, 57681, 102337, 74599, 0, 0) |\n",
            "Test data shape (199910, 100, 42) (199910,)\n"
          ]
        },
        {
          "name": "stderr",
          "output_type": "stream",
          "text": [
            "/usr/local/lib/python3.7/dist-packages/ipykernel_launcher.py:11: RuntimeWarning: invalid value encountered in long_scalars\n",
            "  # This is added back by InteractiveShellApp.init_path()\n"
          ]
        },
        {
          "name": "stdout",
          "output_type": "stream",
          "text": [
            "| test loss 57906.2260680837 | b, cb, s, cs, h, ch: (97514, 54805, 102396, 72512, 0, 0) |\n",
            "Test data shape (199909, 100, 42) (199909,)\n"
          ]
        },
        {
          "name": "stderr",
          "output_type": "stream",
          "text": [
            "/usr/local/lib/python3.7/dist-packages/ipykernel_launcher.py:11: RuntimeWarning: invalid value encountered in long_scalars\n",
            "  # This is added back by InteractiveShellApp.init_path()\n"
          ]
        },
        {
          "name": "stdout",
          "output_type": "stream",
          "text": [
            "| test loss 52490.16067561821 | b, cb, s, cs, h, ch: (97551, 58636, 102358, 70270, 0, 0) |\n",
            "Test data shape (199908, 100, 42) (199908,)\n"
          ]
        },
        {
          "name": "stderr",
          "output_type": "stream",
          "text": [
            "/usr/local/lib/python3.7/dist-packages/ipykernel_launcher.py:11: RuntimeWarning: invalid value encountered in long_scalars\n",
            "  # This is added back by InteractiveShellApp.init_path()\n"
          ]
        },
        {
          "name": "stdout",
          "output_type": "stream",
          "text": [
            "| test loss 59622.786362684914 | b, cb, s, cs, h, ch: (97578, 44709, 102330, 76787, 0, 0) |\n",
            "Test data shape (199908, 100, 42) (199908,)\n"
          ]
        },
        {
          "name": "stderr",
          "output_type": "stream",
          "text": [
            "/usr/local/lib/python3.7/dist-packages/ipykernel_launcher.py:11: RuntimeWarning: invalid value encountered in long_scalars\n",
            "  # This is added back by InteractiveShellApp.init_path()\n"
          ]
        },
        {
          "name": "stdout",
          "output_type": "stream",
          "text": [
            "| test loss 54492.11336088155 | b, cb, s, cs, h, ch: (97604, 57520, 102304, 70087, 0, 0) |\n",
            "Test data shape (199907, 100, 42) (199907,)\n"
          ]
        },
        {
          "name": "stderr",
          "output_type": "stream",
          "text": [
            "/usr/local/lib/python3.7/dist-packages/ipykernel_launcher.py:11: RuntimeWarning: invalid value encountered in long_scalars\n",
            "  # This is added back by InteractiveShellApp.init_path()\n"
          ]
        },
        {
          "name": "stdout",
          "output_type": "stream",
          "text": [
            "| test loss 62361.456980040384 | b, cb, s, cs, h, ch: (97701, 51317, 102206, 74902, 0, 0) |\n",
            "Test data shape (199906, 100, 42) (199906,)\n"
          ]
        },
        {
          "name": "stderr",
          "output_type": "stream",
          "text": [
            "/usr/local/lib/python3.7/dist-packages/ipykernel_launcher.py:11: RuntimeWarning: invalid value encountered in long_scalars\n",
            "  # This is added back by InteractiveShellApp.init_path()\n"
          ]
        },
        {
          "name": "stdout",
          "output_type": "stream",
          "text": [
            "| test loss 52052.341980961755 | b, cb, s, cs, h, ch: (97796, 49358, 102110, 76831, 0, 0) |\n",
            "Test data shape (199905, 100, 42) (199905,)\n"
          ]
        },
        {
          "name": "stderr",
          "output_type": "stream",
          "text": [
            "/usr/local/lib/python3.7/dist-packages/ipykernel_launcher.py:11: RuntimeWarning: invalid value encountered in long_scalars\n",
            "  # This is added back by InteractiveShellApp.init_path()\n"
          ]
        },
        {
          "name": "stdout",
          "output_type": "stream",
          "text": [
            "| test loss 55834.110223879296 | b, cb, s, cs, h, ch: (97801, 49902, 102104, 73643, 0, 0) |\n",
            "Test data shape (199904, 100, 42) (199904,)\n"
          ]
        },
        {
          "name": "stderr",
          "output_type": "stream",
          "text": [
            "/usr/local/lib/python3.7/dist-packages/ipykernel_launcher.py:11: RuntimeWarning: invalid value encountered in long_scalars\n",
            "  # This is added back by InteractiveShellApp.init_path()\n"
          ]
        },
        {
          "name": "stdout",
          "output_type": "stream",
          "text": [
            "| test loss 61274.877420403616 | b, cb, s, cs, h, ch: (97858, 40078, 102046, 79452, 0, 0) |\n",
            "Test data shape (199904, 100, 42) (199904,)\n"
          ]
        },
        {
          "name": "stderr",
          "output_type": "stream",
          "text": [
            "/usr/local/lib/python3.7/dist-packages/ipykernel_launcher.py:11: RuntimeWarning: invalid value encountered in long_scalars\n",
            "  # This is added back by InteractiveShellApp.init_path()\n"
          ]
        },
        {
          "name": "stdout",
          "output_type": "stream",
          "text": [
            "| test loss 57312.8102235857 | b, cb, s, cs, h, ch: (97921, 49210, 101983, 72317, 0, 0) |\n",
            "Test data shape (199903, 100, 42) (199903,)\n"
          ]
        },
        {
          "name": "stderr",
          "output_type": "stream",
          "text": [
            "/usr/local/lib/python3.7/dist-packages/ipykernel_launcher.py:11: RuntimeWarning: invalid value encountered in long_scalars\n",
            "  # This is added back by InteractiveShellApp.init_path()\n"
          ]
        },
        {
          "name": "stdout",
          "output_type": "stream",
          "text": [
            "| test loss 52215.876334663204 | b, cb, s, cs, h, ch: (97982, 52300, 101921, 70491, 0, 0) |\n",
            "Test data shape (199902, 100, 42) (199902,)\n"
          ]
        },
        {
          "name": "stderr",
          "output_type": "stream",
          "text": [
            "/usr/local/lib/python3.7/dist-packages/ipykernel_launcher.py:11: RuntimeWarning: invalid value encountered in long_scalars\n",
            "  # This is added back by InteractiveShellApp.init_path()\n"
          ]
        },
        {
          "name": "stdout",
          "output_type": "stream",
          "text": [
            "| test loss 52405.55694554652 | b, cb, s, cs, h, ch: (98047, 53211, 101855, 70658, 0, 0) |\n",
            "Test data shape (199901, 100, 42) (199901,)\n"
          ]
        },
        {
          "name": "stderr",
          "output_type": "stream",
          "text": [
            "/usr/local/lib/python3.7/dist-packages/ipykernel_launcher.py:11: RuntimeWarning: invalid value encountered in long_scalars\n",
            "  # This is added back by InteractiveShellApp.init_path()\n"
          ]
        },
        {
          "name": "stdout",
          "output_type": "stream",
          "text": [
            "| test loss 52397.503733925594 | b, cb, s, cs, h, ch: (98191, 60544, 101710, 62360, 0, 0) |\n",
            "Test data shape (199900, 100, 42) (199900,)\n"
          ]
        },
        {
          "name": "stderr",
          "output_type": "stream",
          "text": [
            "/usr/local/lib/python3.7/dist-packages/ipykernel_launcher.py:11: RuntimeWarning: invalid value encountered in long_scalars\n",
            "  # This is added back by InteractiveShellApp.init_path()\n"
          ]
        },
        {
          "name": "stdout",
          "output_type": "stream",
          "text": [
            "| test loss 55603.33280899536 | b, cb, s, cs, h, ch: (98206, 48257, 101694, 70117, 0, 0) |\n",
            "Test data shape (199900, 100, 42) (199900,)\n"
          ]
        },
        {
          "name": "stderr",
          "output_type": "stream",
          "text": [
            "/usr/local/lib/python3.7/dist-packages/ipykernel_launcher.py:11: RuntimeWarning: invalid value encountered in long_scalars\n",
            "  # This is added back by InteractiveShellApp.init_path()\n"
          ]
        },
        {
          "name": "stdout",
          "output_type": "stream",
          "text": [
            "| test loss 54780.125920045844 | b, cb, s, cs, h, ch: (98151, 55120, 101749, 64868, 0, 0) |\n",
            "Test data shape (199899, 100, 42) (199899,)\n"
          ]
        },
        {
          "name": "stderr",
          "output_type": "stream",
          "text": [
            "/usr/local/lib/python3.7/dist-packages/ipykernel_launcher.py:11: RuntimeWarning: invalid value encountered in long_scalars\n",
            "  # This is added back by InteractiveShellApp.init_path()\n"
          ]
        },
        {
          "name": "stdout",
          "output_type": "stream",
          "text": [
            "| test loss 53535.41599830726 | b, cb, s, cs, h, ch: (98172, 47902, 101727, 70148, 0, 0) |\n",
            "Test data shape (199898, 100, 42) (199898,)\n"
          ]
        },
        {
          "name": "stderr",
          "output_type": "stream",
          "text": [
            "/usr/local/lib/python3.7/dist-packages/ipykernel_launcher.py:11: RuntimeWarning: invalid value encountered in long_scalars\n",
            "  # This is added back by InteractiveShellApp.init_path()\n"
          ]
        },
        {
          "name": "stdout",
          "output_type": "stream",
          "text": [
            "| test loss 52964.881377693666 | b, cb, s, cs, h, ch: (98225, 56332, 101673, 63466, 0, 0) |\n",
            "Test data shape (199897, 100, 42) (199897,)\n"
          ]
        },
        {
          "name": "stderr",
          "output_type": "stream",
          "text": [
            "/usr/local/lib/python3.7/dist-packages/ipykernel_launcher.py:11: RuntimeWarning: invalid value encountered in long_scalars\n",
            "  # This is added back by InteractiveShellApp.init_path()\n"
          ]
        },
        {
          "name": "stdout",
          "output_type": "stream",
          "text": [
            "| test loss 56081.07569059483 | b, cb, s, cs, h, ch: (98248, 57576, 101649, 59327, 0, 0) |\n",
            "Test data shape (199896, 100, 42) (199896,)\n"
          ]
        },
        {
          "name": "stderr",
          "output_type": "stream",
          "text": [
            "/usr/local/lib/python3.7/dist-packages/ipykernel_launcher.py:11: RuntimeWarning: invalid value encountered in long_scalars\n",
            "  # This is added back by InteractiveShellApp.init_path()\n"
          ]
        },
        {
          "name": "stdout",
          "output_type": "stream",
          "text": [
            "| test loss 54644.67553860112 | b, cb, s, cs, h, ch: (98330, 49531, 101566, 69240, 0, 0) |\n",
            "Test data shape (199896, 100, 42) (199896,)\n",
            "| test loss 52640.39143160514 | b, cb, s, cs, h, ch: (98352, 59628, 101544, 59109, 0, 0) |\n"
          ]
        },
        {
          "name": "stderr",
          "output_type": "stream",
          "text": [
            "/usr/local/lib/python3.7/dist-packages/ipykernel_launcher.py:11: RuntimeWarning: invalid value encountered in long_scalars\n",
            "  # This is added back by InteractiveShellApp.init_path()\n"
          ]
        }
      ],
      "source": [
        "save_path = os.path.join('/content/drive/MyDrive/IP/Repos/HFTransformer/results_LSTM',\n",
        "                            str(int(time.time()))+'_forecasting_results.csv')\n",
        "# save_pah = None\n",
        "\n",
        "save_path_results = os.path.join('/content/drive/MyDrive/IP/Repos/HFTransformer/results_LSTM',\n",
        "                            str(int(time.time()))+'_list_results.pkl')                            \n",
        "\n",
        "forecast_windows = [i for i in range(1,31)]\n",
        "# forecast_windows = [35, 40, 45, 50, 55, 60]\n",
        "\n",
        "predictions = []\n",
        "\n",
        "\n",
        "for lag in forecast_windows:\n",
        "    orderbook = augment_trade_data(agg_trade, forecast_window=lag)\n",
        "\n",
        "    features = ['price', 'lag_return',\n",
        "                'bid1', 'bidqty1', 'bid2', 'bidqty2', 'bid3', 'bidqty3', 'bid4', 'bidqty4', 'bid5', 'bidqty5',\n",
        "                'bid6', 'bidqty6', 'bid7', 'bidqty7', 'bid8', 'bidqty8', 'bid9', 'bidqty9', 'bid10', 'bidqty10',\n",
        "                'ask1', 'askqty1', 'ask2', 'askqty2', 'ask3', 'askqty3', 'ask4', 'askqty4', 'ask5', 'askqty5',\n",
        "                'ask6', 'askqty6', 'ask7', 'askqty7', 'ask8', 'askqty8', 'ask9', 'askqty9', 'bid10', 'bidqty10']\n",
        "\n",
        "    split_index, data_x_train, data_y_train, data_x_val, data_y_val = prepare_data(np.array(orderbook[features][2_800_000:3_050_000]),\n",
        "                                                                                            np.array(agg_trade.datetime[2_005_000:2_006_000]),\n",
        "                                                                                            np.array(orderbook[features][60_000:60_600]),\n",
        "                                                                                            np.array(agg_trade.datetime[60_000:60_600]),\n",
        "                                                                                            config, lag=lag, plot=False)\n",
        "\n",
        "    dataset_test = TimeSeriesDataset(data_x_train, data_y_train)\n",
        "\n",
        "    print(\"Test data shape\", dataset_test.x.shape, dataset_test.y.shape)\n",
        "\n",
        "    model_MO = torch.load( f'/content/drive/MyDrive/IP/Repos/HFTransformer/models/LSTM_MO_LAG_{lag}.pt')\n",
        "    model_MO = model_MO.to(device)\n",
        "\n",
        "    # create DataLoader\n",
        "    criterion = nn.MSELoss(reduction='sum')\n",
        "\n",
        "    pred, true = forecast_evaluator(dataset_test, model_MO, criterion, forecast_horizon=1, device=device, save_path=save_path)\n",
        "\n",
        "    predictions.append((pred, true))\n",
        "\n",
        "    del data_x_train \n",
        "    del data_y_train\n",
        "    del data_x_val\n",
        "    del data_y_val\n",
        "\n",
        "    # torch.save(model_MO, f'/content/drive/MyDrive/IP/Repos/HFTransformer/models/LSTM_MO_LAG_{lag}.pt')\n",
        "\n",
        "with open(save_path_results, 'wb') as f:\n",
        "    pickle.dump(predictions, f)"
      ]
    },
    {
      "cell_type": "markdown",
      "metadata": {
        "id": "9vX43xLNDd5A"
      },
      "source": [
        "## Model training - Many to Many "
      ]
    },
    {
      "cell_type": "code",
      "execution_count": null,
      "metadata": {
        "colab": {
          "base_uri": "https://localhost:8080/"
        },
        "id": "btGBbvHYDd5A",
        "outputId": "06000d70-7fdc-4359-9a1f-d66f16786afb"
      },
      "outputs": [
        {
          "name": "stderr",
          "output_type": "stream",
          "text": [
            "100%|██████████| 15/15 [05:20<00:00, 21.37s/it, train_loss=0.005, val_loss=0.073]\n"
          ]
        }
      ],
      "source": [
        "model_MM = LSTM_MM(input_size=x_train.shape[2], hidden_size=config[\"model_MM\"][\"lstm_size\"],\n",
        "                   num_layers=config[\"model_MM\"][\"num_lstm_layers\"], dropout=config[\"model_MM\"][\"dropout\"])\n",
        "\n",
        "model_MM = model_MM.to(device)\n",
        "\n",
        "train_loss, val_loss = model_MM.train_model(x_train, y_train, x_val, y_val, target_len=config[\"model_MM\"][\"target_len\"], device=device,\n",
        "                  n_epochs=config[\"training_MM\"][\"num_epoch\"], learning_rate = config[\"training_MM\"][\"learning_rate\"],\n",
        "                  batch_size=config[\"training_MM\"][\"batch_size\"], training_prediction=\"mixed_teacher_forcing\")#, dynamic_tf=True)\n",
        "\n",
        "date_now = datetime.now()\n",
        "timestamp = date_now.strftime(\"%d-%b-%Y_%H:%M:%S.%f\")\n",
        "\n",
        "model_path = config[\"paths\"][\"drive\"][\"models\"] if drive else config[\"paths\"][\"local\"][\"models\"]\n",
        "\n",
        "torch.save(model_MM, model_path+\"lstm_mm_\"+timestamp+\".pt\")"
      ]
    },
    {
      "cell_type": "markdown",
      "metadata": {
        "id": "h-X8WO0FSFcE"
      },
      "source": [
        "## Predicting future stock prices"
      ]
    },
    {
      "cell_type": "code",
      "execution_count": null,
      "metadata": {
        "id": "MgSOzYuXJrdU"
      },
      "outputs": [],
      "source": [
        "# predict on the unseen data, tomorrow's price \n",
        "test_dataloader = DataLoader(dataset_test, batch_size=config[\"training\"][\"batch_size\"], shuffle=False)\n",
        "\n",
        "model.eval()\n",
        "\n",
        "predicted_test = np.array([])\n",
        "\n",
        "for idx, (x, y) in enumerate(test_dataloader):\n",
        "    x = x.to(device)\n",
        "    out = model(x)\n",
        "    out = out.cpu().detach().numpy()\n",
        "    predicted_test = np.concatenate((predicted_test, out))\n",
        "\n",
        "predictions = scaler.inverse_transform(predicted_test)\n",
        "\n",
        "if config[\"plots\"][\"show_plots\"]:\n",
        "        \n",
        "    # prepare plots\n",
        "\n",
        "    plot_range = 3300\n",
        "    to_plot_data_y_test = np.zeros(plot_range)\n",
        "    to_plot_data_y_test_pred = np.zeros(plot_range)\n",
        "\n",
        "    to_plot_data_y_test = prices_test[:plot_range]\n",
        "    to_plot_data_y_test_pred = predictions[:plot_range]\n",
        "\n",
        "    # plot\n",
        "    plot_date_test = dates_train[:plot_range]\n",
        "\n",
        "    fig = figure(figsize=(25, 5), dpi=160)\n",
        "    fig.patch.set_facecolor((1.0, 1.0, 1.0))\n",
        "    plt.plot(plot_date_test, to_plot_data_y_test, label=\"Actual prices\", color=config[\"plots\"][\"color_actual\"])\n",
        "    plt.plot(plot_date_test, to_plot_data_y_test_pred, label=\"Predicted prices\", color=config[\"plots\"][\"color_pred_test\"])\n",
        "        \n",
        "    timediff=parser.parse(plot_date_test[-1])-parser.parse(plot_date_test[0])\n",
        "    timediff=timediff.seconds/60\n",
        "    \n",
        "    plt.title(\"Predicted Price vs Actual Price\"+ \" - duration: \"+\"{:.2f}\".format(timediff)+\" min\")\n",
        "    plt.grid(b=None, which='major', axis='y', linestyle='--')\n",
        "    plt.xticks([])\n",
        "    plt.legend()\n",
        "    plt.show()"
      ]
    },
    {
      "cell_type": "markdown",
      "metadata": {
        "id": "PnP8JIJNDd5C"
      },
      "source": [
        "## Evaluation - LSTM MM"
      ]
    },
    {
      "cell_type": "code",
      "execution_count": null,
      "metadata": {
        "id": "g7bUin7Tkiiq"
      },
      "outputs": [],
      "source": [
        "model_MM.predict(torch.from_numpy(x_train_to_plot[:,40,:]).type(torch.Tensor).to(device), target_len=config[\"model_MM\"][\"target_len\"]) - model_MM.predict(torch.from_numpy(x_train_to_plot[:,1000,:]).type(torch.Tensor).to(device), target_len=config[\"model_MM\"][\"target_len\"])"
      ]
    },
    {
      "cell_type": "code",
      "execution_count": null,
      "metadata": {
        "id": "seZTuqYrkuVa"
      },
      "outputs": [],
      "source": [
        "def forecast_prices(model, normalized_prices_test, window_size, forecast_length, features):\n",
        "    n_samples = int(len(normalized_prices_test)/(window_size-forecast_length))-1\n",
        "\n",
        "    inputs = np.zeros([n_samples, window_size, features])\n",
        "    \n",
        "    for idx in range(n_samples):\n",
        "        inputs[idx,:,:] = normalized_prices_test[idx*forecast_length:(idx)*forecast_length+window_size].reshape(-1, features)\n",
        "    \n",
        "    forecasts = np.zeros([(n_samples-1)*forecast_length, features])\n",
        "    for idx in range(n_samples-1):\n",
        "        forecasts[idx*forecast_length:(idx+1)*forecast_length] = model_MM.predict(torch.from_numpy(inputs[idx,:,:]).type(torch.Tensor).to(device),\n",
        "                                                                                  target_len=forecast_length)\n",
        "    true_prices = normalized_prices_test[window_size:(n_samples-1)*forecast_length+window_size]\n",
        "    forecasts = forecasts.flatten()\n",
        "\n",
        "    return forecasts, true_prices"
      ]
    },
    {
      "cell_type": "code",
      "execution_count": null,
      "metadata": {
        "colab": {
          "base_uri": "https://localhost:8080/",
          "height": 732
        },
        "id": "AMVnkaiO1mTe",
        "outputId": "aed9b70f-5dda-4817-bee2-52095def6bab"
      },
      "outputs": [
        {
          "data": {
            "text/plain": [
              "Text(0, 0.5, 'price')"
            ]
          },
          "execution_count": 408,
          "metadata": {},
          "output_type": "execute_result"
        },
        {
          "data": {
            "image/png": "[encoded data removed]",
            "text/plain": [
              "<Figure size 1152x864 with 1 Axes>"
            ]
          },
          "metadata": {},
          "output_type": "display_data"
        }
      ],
      "source": [
        "forecasts, true_prices = forecast_prices(model_MM, normalized_prices_train, config[\"data\"][\"window_size\"],\n",
        "                          config[\"model_MM\"][\"target_len\"], 1)\n",
        "\n",
        "fig, ax = plt.subplots(1, 1, figsize = (16, 12))\n",
        "\n",
        "ax.plot(np.arange(len(true_prices)), true_prices, color = (0.2, 0.42, 0.72), linewidth = 2, label = 'Target')\n",
        "ax.plot(np.arange(len(true_prices)), forecasts, color = (0.76, 0.01, 0.01), linewidth = 2, label = 'Prediction')\n",
        "ax.set_xlabel('time')\n",
        "ax.set_ylabel('price')"
      ]
    },
    {
      "cell_type": "code",
      "execution_count": null,
      "metadata": {
        "id": "PC49ww6Dg1JM"
      },
      "outputs": [],
      "source": []
    }
  ],
  "metadata": {
    "accelerator": "GPU",
    "colab": {
      "collapsed_sections": [
        "7OaAEH26Dd48",
        "gkYm8LWuDd4-",
        "9vX43xLNDd5A",
        "YQoZ0uHGSFcD",
        "h-X8WO0FSFcE"
      ],
      "machine_shape": "hm",
      "name": "3_predicting_ts_LSTM_Finance.ipynb",
      "provenance": []
    },
    "gpuClass": "standard",
    "kernelspec": {
      "display_name": "Python 3.9.12 64-bit",
      "language": "python",
      "name": "python3"
    },
    "language_info": {
      "codemirror_mode": {
        "name": "ipython",
        "version": 3
      },
      "file_extension": ".py",
      "mimetype": "text/x-python",
      "name": "python",
      "nbconvert_exporter": "python",
      "pygments_lexer": "ipython3",
      "version": "3.9.12"
    },
    "vscode": {
      "interpreter": {
        "hash": "aee8b7b246df8f9039afb4144a1f6fd8d2ca17a180786b69acc140d282b71a49"
      }
    }
  },
  "nbformat": 4,
  "nbformat_minor": 0
}
